{
 "cells": [
  {
   "cell_type": "code",
   "execution_count": 18,
   "id": "1ff55534-751c-44db-ab74-53a9681f57a3",
   "metadata": {},
   "outputs": [],
   "source": [
    "import pandas as pd\n",
    "import numpy as np"
   ]
  },
  {
   "cell_type": "markdown",
   "id": "c985462e-a824-464d-9fae-e54c909eb257",
   "metadata": {},
   "source": [
    "## Q1"
   ]
  },
  {
   "cell_type": "code",
   "execution_count": 3,
   "id": "2a539505-fa49-4909-ad18-dcf094be215f",
   "metadata": {},
   "outputs": [
    {
     "data": {
      "text/plain": [
       "'2.1.0'"
      ]
     },
     "execution_count": 3,
     "metadata": {},
     "output_type": "execute_result"
    }
   ],
   "source": [
    "pd.__version__"
   ]
  },
  {
   "cell_type": "markdown",
   "id": "62ea915c-c356-47e7-be0c-c5a99ff8e91e",
   "metadata": {},
   "source": [
    "## Q2"
   ]
  },
  {
   "cell_type": "markdown",
   "id": "10099ad7-a5b9-4152-8ac4-5b0947c50535",
   "metadata": {},
   "source": [
    "How many columns are in the dataset?\n",
    "\n",
    "- 10\n",
    "- 6560\n",
    "- 10989\n",
    "- 20640"
   ]
  },
  {
   "cell_type": "code",
   "execution_count": 4,
   "id": "62af2393-e770-45f8-a94e-c1830cbd06e3",
   "metadata": {},
   "outputs": [],
   "source": [
    "url=\"https://raw.githubusercontent.com/alexeygrigorev/datasets/master/housing.csv\"\n",
    "data=pd.read_csv(url)"
   ]
  },
  {
   "cell_type": "code",
   "execution_count": 5,
   "id": "08421fae-d05a-467a-b568-131ae8587642",
   "metadata": {},
   "outputs": [
    {
     "name": "stdout",
     "output_type": "stream",
     "text": [
      "dataset column number: 10\n"
     ]
    }
   ],
   "source": [
    "print('dataset column number:',data.shape[1])"
   ]
  },
  {
   "cell_type": "code",
   "execution_count": 6,
   "id": "7fdc374d-c5de-4f54-b36d-9ade92ef0b42",
   "metadata": {},
   "outputs": [],
   "source": [
    "# 10 columns"
   ]
  },
  {
   "cell_type": "markdown",
   "id": "e14fd2ad-5b30-420b-a6d4-09869bed4041",
   "metadata": {},
   "source": [
    "## Q3"
   ]
  },
  {
   "cell_type": "markdown",
   "id": "3a2dc168-e800-411e-961a-1458af7a4d0a",
   "metadata": {},
   "source": [
    "Which columns in the dataset have missing values?\n",
    "\n",
    "- `total_rooms`\n",
    "- `total_bedrooms`\n",
    "- both of the above\n",
    "- no empty columns in the dataset"
   ]
  },
  {
   "cell_type": "code",
   "execution_count": 7,
   "id": "d78c27f6-953a-409d-bd0b-cc8b5e908394",
   "metadata": {},
   "outputs": [
    {
     "data": {
      "text/plain": [
       "longitude             0.000000\n",
       "latitude              0.000000\n",
       "housing_median_age    0.000000\n",
       "total_rooms           0.000000\n",
       "total_bedrooms        0.010029\n",
       "population            0.000000\n",
       "households            0.000000\n",
       "median_income         0.000000\n",
       "median_house_value    0.000000\n",
       "ocean_proximity       0.000000\n",
       "dtype: float64"
      ]
     },
     "execution_count": 7,
     "metadata": {},
     "output_type": "execute_result"
    }
   ],
   "source": [
    "miss_vals_mean = data.isna().mean()\n",
    "miss_vals_mean"
   ]
  },
  {
   "cell_type": "code",
   "execution_count": 8,
   "id": "d45468dc-a06d-4883-82ed-5c748ceaf43f",
   "metadata": {},
   "outputs": [
    {
     "name": "stdout",
     "output_type": "stream",
     "text": [
      "columns with miss vals: ['total_bedrooms']\n"
     ]
    }
   ],
   "source": [
    "print('columns with miss vals:', list(miss_vals_mean[miss_vals_mean>0].index))"
   ]
  },
  {
   "cell_type": "markdown",
   "id": "e82ceae4-5546-4c89-946a-b2561ccbd1d9",
   "metadata": {},
   "source": [
    "## Q4"
   ]
  },
  {
   "cell_type": "markdown",
   "id": "e57223e4-475e-4849-a0ce-72881318e38f",
   "metadata": {},
   "source": [
    "How many unique values does the `ocean_proximity` column have?\n",
    "\n",
    "- 3\n",
    "- 5\n",
    "- 7\n",
    "- 9"
   ]
  },
  {
   "cell_type": "code",
   "execution_count": 9,
   "id": "7712b826-3de1-416c-89bb-0cffe690f188",
   "metadata": {},
   "outputs": [
    {
     "data": {
      "text/plain": [
       "5"
      ]
     },
     "execution_count": 9,
     "metadata": {},
     "output_type": "execute_result"
    }
   ],
   "source": [
    "data.ocean_proximity.nunique()"
   ]
  },
  {
   "cell_type": "code",
   "execution_count": 10,
   "id": "8b6d3683-205c-4643-93d0-2420cec8728d",
   "metadata": {},
   "outputs": [
    {
     "name": "stdout",
     "output_type": "stream",
     "text": [
      "Number of unique values in the 'ocean_proximity' column  5\n"
     ]
    }
   ],
   "source": [
    "print(\"Number of unique values in the 'ocean_proximity' column \", data.ocean_proximity.nunique())"
   ]
  },
  {
   "cell_type": "markdown",
   "id": "eed01da2-8038-491f-aefc-4ba3b95983d4",
   "metadata": {},
   "source": [
    "## Q5"
   ]
  },
  {
   "cell_type": "markdown",
   "id": "9d0c3f2d-58f1-457e-b898-fe4b52386d50",
   "metadata": {},
   "source": [
    "What's the average value of the `median_house_value` for the houses located near the bay?\n",
    "\n",
    "- 49433\n",
    "- 124805\n",
    "- 259212\n",
    "- 380440"
   ]
  },
  {
   "cell_type": "code",
   "execution_count": 11,
   "id": "a2048963-1f9b-4b5f-8f75-9caf6adedd82",
   "metadata": {},
   "outputs": [
    {
     "data": {
      "text/plain": [
       "259212.31179039303"
      ]
     },
     "execution_count": 11,
     "metadata": {},
     "output_type": "execute_result"
    }
   ],
   "source": [
    "data.query(\"ocean_proximity == 'NEAR BAY'\").median_house_value.mean()"
   ]
  },
  {
   "cell_type": "code",
   "execution_count": 12,
   "id": "0914973c-eb12-4dc6-a3f3-ab0e183623ea",
   "metadata": {},
   "outputs": [
    {
     "name": "stdout",
     "output_type": "stream",
     "text": [
      "Average value of the 'median_house_value' 259212.31179039303\n"
     ]
    }
   ],
   "source": [
    "print(\"Average value of the 'median_house_value'\", data.query(\"ocean_proximity == 'NEAR BAY'\").median_house_value.mean())"
   ]
  },
  {
   "cell_type": "markdown",
   "id": "10806509-b0e8-46ad-abdf-f0d52f60ac1e",
   "metadata": {},
   "source": [
    "## Q6"
   ]
  },
  {
   "cell_type": "markdown",
   "id": "65676672-1fe4-41f4-aa8c-07d8327f7ab0",
   "metadata": {},
   "source": [
    "\n",
    "1. Calculate the average of `total_bedrooms` column in the dataset.\n",
    "2. Use the `fillna` method to fill the missing values in `total_bedrooms` with the mean value from the previous step.\n",
    "3. Now, calculate the average of `total_bedrooms` again.\n",
    "4. Has it changed?\n",
    "\n",
    "Has it changed? - NO"
   ]
  },
  {
   "cell_type": "code",
   "execution_count": 13,
   "id": "002cda77-e628-4243-81dc-197dde79f22e",
   "metadata": {},
   "outputs": [
    {
     "name": "stdout",
     "output_type": "stream",
     "text": [
      "Total bedrooms average before fill 537.8705525375618\n",
      "Total bedrooms average after fill 537.8705525375617\n"
     ]
    }
   ],
   "source": [
    "total_bedrooms_mean = data['total_bedrooms'].mean()\n",
    "data_filled = data.copy()\n",
    "data_filled['total_bedrooms'] = data_filled['total_bedrooms'].fillna(total_bedrooms_mean)\n",
    "print('Total bedrooms average before fill', total_bedrooms_mean)\n",
    "print('Total bedrooms average after fill', data_filled['total_bedrooms'].mean())"
   ]
  },
  {
   "cell_type": "markdown",
   "id": "e1f5373d-fb72-4f73-bfb9-492fe5c1e86c",
   "metadata": {},
   "source": [
    "## Q7\n",
    "\n",
    "1. Select all the options located on islands.\n",
    "2. Select only columns `housing_median_age`, `total_rooms`, `total_bedrooms`.\n",
    "3. Get the underlying NumPy array. Let's call it `X`.\n",
    "4. Compute matrix-matrix multiplication between the transpose of `X` and `X`. To get the transpose, use `X.T`. Let's call the result `XTX`.\n",
    "5. Compute the inverse of `XTX`.\n",
    "6. Create an array `y` with values `[950, 1300, 800, 1000, 1300]`.\n",
    "7. Multiply the inverse of `XTX` with the transpose of `X`, and then multiply the result by `y`. Call the result `w`.\n",
    "8. What's the value of the last element of `w`?\n",
    "\n",
    "> **Note**: You just implemented linear regression. We'll talk about it in the next lesson.\n",
    "\n",
    "- -1.4812\n",
    "- 0.001\n",
    "- 5.6992\n",
    "- 23.1233"
   ]
  },
  {
   "cell_type": "code",
   "execution_count": 30,
   "id": "68d297d4-2571-4be9-9725-90e144178f7a",
   "metadata": {},
   "outputs": [
    {
     "name": "stdout",
     "output_type": "stream",
     "text": [
      "Last element of w:  5.699229455065586\n"
     ]
    }
   ],
   "source": [
    "COLUMNS = ['housing_median_age', 'total_rooms','total_bedrooms']\n",
    "island_data = data_filled.query(\"ocean_proximity == 'ISLAND'\")\n",
    "train_data = island_data[COLUMNS]\n",
    "\n",
    "X = train_data.values\n",
    "XTX = np.matmul(X.T, X)\n",
    "\n",
    "y = np.array([950, 1300, 800, 1000, 1300])\n",
    "\n",
    "w = np.matmul(np.matmul(np.linalg.inv(XTX), X.T), y)\n",
    "\n",
    "print('Last element of w: ',w[-1])"
   ]
  },
  {
   "cell_type": "code",
   "execution_count": null,
   "id": "e3bb1041-55e4-4ce7-b1cb-0f018582f4db",
   "metadata": {},
   "outputs": [],
   "source": []
  }
 ],
 "metadata": {
  "kernelspec": {
   "display_name": "ml-zoomcamp",
   "language": "python",
   "name": "ml-zoomcamp"
  },
  "language_info": {
   "codemirror_mode": {
    "name": "ipython",
    "version": 3
   },
   "file_extension": ".py",
   "mimetype": "text/x-python",
   "name": "python",
   "nbconvert_exporter": "python",
   "pygments_lexer": "ipython3",
   "version": "3.9.18"
  }
 },
 "nbformat": 4,
 "nbformat_minor": 5
}
